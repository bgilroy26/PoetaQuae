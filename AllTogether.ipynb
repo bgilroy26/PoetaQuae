{
 "cells": [
  {
   "cell_type": "code",
   "execution_count": 104,
   "metadata": {},
   "outputs": [],
   "source": [
    "import pandas as pd\n",
    "import requests\n",
    "from bs4 import BeautifulSoup\n",
    "from nltk.tokenize.repp import ReppTokenizer\n",
    "import numpy as np\n",
    "from cltk.tokenize.word import WordTokenizer\n",
    "from cltk.corpus.utils.importer import CorpusImporter\n",
    "from nltk.tokenize.punkt import PunktLanguageVars\n",
    "from cltk.stop.latin import STOPS_LIST\n",
    "from cltk.vector.word2vec import make_model\n",
    "from cltk.stem.latin.j_v import JVReplacer\n",
    "from nltk import FreqDist\n",
    "from sklearn.model_selection import train_test_split\n",
    "from sklearn.feature_extraction.text import CountVectorizer, TfidfVectorizer\n",
    "from sklearn.feature_extraction.text import TfidfTransformer\n",
    "import re\n",
    "cv=CountVectorizer(analyzer='word')\n",
    "j = JVReplacer()\n",
    "from cltk.lemmatize.latin.backoff import BackoffLatinLemmatizer\n",
    "lemmatizer = BackoffLatinLemmatizer()\n",
    "corpus_importer=CorpusImporter('latin')\n",
    "corpus_importer.list_corpora\n",
    "corpus_importer.import_corpus('latin_models_cltk')\n",
    "import pickle"
   ]
  },
  {
   "cell_type": "code",
   "execution_count": 3,
   "metadata": {},
   "outputs": [],
   "source": [
    "with open('caesar.pickle','rb') as f:\n",
    "    caesar=pickle.load(f)\n",
    "with open('ovid.pickle','rb') as f:\n",
    "    ovid=pickle.load(f)\n",
    "with open('cicero.pickle','rb') as f:\n",
    "    cicero=pickle.load(f)\n",
    "with open('catullus_stops.pkl','rb') as f:\n",
    "    catullus=pickle.load(f)\n",
    "with open('horace_stops.pkl','rb') as f:\n",
    "    horace=pickle.load(f)\n",
    "with open('virgil_stops.pkl','rb') as f:\n",
    "    virgil=pickle.load(f)\n",
    "with open('juvenal_stops.pkl','rb') as f:\n",
    "    juvenal=pickle.load(f)"
   ]
  },
  {
   "cell_type": "code",
   "execution_count": 7,
   "metadata": {},
   "outputs": [],
   "source": [
    "catullus_sentences=[' '.join(sentence) for sentence in catullus]\n",
    "virgil_sentences=[' '.join(sentence) for sentence in virgil]\n",
    "horace_sentences=[' '.join(sentence) for sentence in horace]\n",
    "juvenal_sentences=[' '.join(sentence) for sentence in juvenal]\n",
    "caesar_sentences=[' '.join(sentence) for sentence in caesar]\n",
    "ovid_sentences=[' '.join(sentence) for sentence in ovid]\n",
    "cicero_sentences=[' '.join(sentence) for sentence in cicero]"
   ]
  },
  {
   "cell_type": "code",
   "execution_count": 42,
   "metadata": {},
   "outputs": [],
   "source": [
    "catullus_labels=['catullus' for sentence in catullus_sentences]\n",
    "virgil_labels=['virgil' for sentence in virgil_sentences]\n",
    "horace_labels=['horace' for sentence in horace_sentences]\n",
    "juvenal_labels=['juvenal' for sentence in juvenal_sentences]\n",
    "caesar_labels=['caesar' for sentence in caesar_sentences]\n",
    "ovid_labels=['ovid' for sentence in ovid_sentences]\n",
    "cicero_labels=['cicero' for sentence in cicero_sentences]"
   ]
  },
  {
   "cell_type": "code",
   "execution_count": 43,
   "metadata": {},
   "outputs": [],
   "source": [
    "authors=(catullus_labels+virgil_labels+horace_labels+juvenal_labels+caesar_labels+ovid_labels+cicero_labels)"
   ]
  },
  {
   "cell_type": "code",
   "execution_count": 304,
   "metadata": {},
   "outputs": [],
   "source": [
    "auth=(catullus_labels+virgil_labels+horace_labels+juvenal_labels+caesar_labels+ovid_labels)"
   ]
  },
  {
   "cell_type": "code",
   "execution_count": 45,
   "metadata": {},
   "outputs": [],
   "source": [
    "data=(catullus_sentences + virgil_sentences + horace_sentences + juvenal_sentences + caesar_sentences + ovid_sentences + cicero_sentences)"
   ]
  },
  {
   "cell_type": "code",
   "execution_count": 305,
   "metadata": {},
   "outputs": [],
   "source": [
    "dat=(catullus_sentences + virgil_sentences + horace_sentences + juvenal_sentences + caesar_sentences + ovid_sentences)"
   ]
  },
  {
   "cell_type": "code",
   "execution_count": 202,
   "metadata": {
    "scrolled": true
   },
   "outputs": [],
   "source": [
    "x_train, x_test, y_train, y_test= train_test_split(data,authors,stratify=authors)"
   ]
  },
  {
   "cell_type": "code",
   "execution_count": 306,
   "metadata": {},
   "outputs": [],
   "source": [
    "xtrain, xtest, ytrain, ytest=train_test_split(dat,auth,stratify=auth)"
   ]
  },
  {
   "cell_type": "code",
   "execution_count": 242,
   "metadata": {},
   "outputs": [],
   "source": [
    "cv=CountVectorizer()\n",
    "fordf=cv.fit_transform(x_train)\n",
    "cols=cv.get_feature_names()\n",
    "traindf=pd.DataFrame(fordf.toarray(),columns=cols)"
   ]
  },
  {
   "cell_type": "code",
   "execution_count": 308,
   "metadata": {},
   "outputs": [],
   "source": [
    "cv=CountVectorizer()\n",
    "fordf=cv.fit_transform(xtrain)\n",
    "cols=cv.get_feature_names()\n",
    "traindf_=pd.DataFrame(fordf.toarray(),columns=cols)"
   ]
  },
  {
   "cell_type": "code",
   "execution_count": 204,
   "metadata": {
    "scrolled": true
   },
   "outputs": [],
   "source": [
    "# traindf['authors']=y_train\n",
    "# traindf.drop(columns=['10', '100', '101', '10307', '104', '1046', '106', '107', '108','10sqq'],inplace=True)"
   ]
  },
  {
   "cell_type": "code",
   "execution_count": 212,
   "metadata": {},
   "outputs": [],
   "source": [
    "drop_columns = '1100 1102 111 11444 115 118 12 120 121 122 123 125 125m 12sqq 13 1300 132 133 138 139k 14 140 143 144 147 149 14sqq 15 150 151 153 15374 155 156 159m 15sqq 16 161172 17 174m 17sqq 18 189 19 1916 193 194m 195 198 19sqq 1idem 20 200 201 201m 202 209 20m 20sqq 21 210 211 213 216 217 218 219 21920 22 220 22010 221 222 223 224 22433 225 226 227 2275 228 228m 229 22sqq 23 230 231 232 233 234 2348 234m 235 236 237 238 2386 239 23m 23sqq 24 240 24014 241 242 243 244 245 246 247 248 249 24m 24sqq 25 250 251 252 253 254 255 255k 256 257 258 2588 259 25m 26 260 261 262 262m 263 263m 264 265 266 267 268 26813 269 26918 27 270 271 272 273 274 275 276 276m 277 278 279 28 280 281 282 283 284 285 2851 28527 286 287 28722 288 289 289m 28sqq 29 290 290m 291 29116 2913 292 29296 293 29345 294 295 296 297 298 299 299m 2sq 2sqq 30 300 300m 301 301m 302 303 3035 304 305 306 307 308 308m 309 31 310 311 312 313 314 315 316 317 3174 318 318m 319 3197 320 321 322 323 323m 324 324m 325 326 327 328 329 32sq 33 330 33023 331 332 3321 333 334 335 336 337 337m 338 3387 339 340 341 342 343 343m 344 34415 34428 345 346 34617 347 3474 348 349 35 350 351 352 353 354 355 356 3568 357 358 35817 359 3597 360 361 36111 36119 362 362m 363 36328 364 364m 365 366 367 368 369 37 370 37015 371 372 373 373m 374 374k 375 376 3761 377 377sqq 378 379 3793 38 380 381 382 383 3831 384 385 386 387 388 389 390 391 392 393 394 395 396 397 398 399 399k 40 400 400d 401 402 403 404 40411 405 406 40616 4069 407 408 409 409m 410 411 412 413 414 415 416 417 41716 417m 418 419 4196 420 421 422 423 423m 424 424m 425 42524 426 427 428 429 42m 43 430 430msq 431 432 433 434 435 43517 436 437 438 439 4397 440 4407 441 442 443 444 445 446 447 448 449 450 451 452 453 454 455 456 4566 457 457k 458 459 462 47 470 472 480 482 483 484 485 486 487 49 491m 497m 498m 499 4sqq 50 500m 506 507 509 511 512m 519m 52 521m 522m 526m 533 534m 54 5425 55 550 553 555 56 562 566 58 584 586 5963 599 5artem 5et 5m 601 604 61 628 646 664 666 67 672 68 68m 69 6sq 70 70k 71 72 72m 73 757 76k 77 78 782 7sqq 80 81 82 821 824 82bib 83 85 85b 86 87 877 88 89 8sqq 90 92 9345 95 97 99 9sqq'.split()\n",
    "morecolumns=['10', '100', '101', '10307', '104', '1046', '106', '107', '108','10sqq','11']\n",
    "for m in morecolumns:\n",
    "    drop_columns.append(m)\n",
    "# testdf.drop(columns=drop_columns, inplace=True)"
   ]
  },
  {
   "cell_type": "code",
   "execution_count": 309,
   "metadata": {},
   "outputs": [],
   "source": [
    "fordftest=cv.transform(xtest)\n",
    "colstest=cv.get_feature_names()\n",
    "testdf_=pd.DataFrame(fordftest.toarray(),columns=cols)\n",
    "# testdf['authors']=y_test\n",
    "# testdf.drop(columns=list(testdf.columns)[:345],inplace=True)"
   ]
  },
  {
   "cell_type": "code",
   "execution_count": 310,
   "metadata": {},
   "outputs": [],
   "source": [
    "from sklearn.feature_extraction.text import TfidfTransformer\n",
    "tff=TfidfTransformer(use_idf=False)\n",
    "tft=TfidfTransformer(use_idf=True)\n",
    "transtraindf=tff.fit_transform(fordf.toarray())\n",
    "idfdfdat=tft.fit_transform(fordf.toarray())"
   ]
  },
  {
   "cell_type": "code",
   "execution_count": 311,
   "metadata": {},
   "outputs": [],
   "source": [
    "non_idf_test = tff.transform(fordftest)\n",
    "idf_test = tft.transform(fordftest)\n",
    "non_idf_test_df = pd.DataFrame(non_idf_test.toarray(), columns = colstest)\n",
    "idf_test_df = pd.DataFrame(idf_test.toarray(), columns=colstest)"
   ]
  },
  {
   "cell_type": "code",
   "execution_count": 220,
   "metadata": {
    "scrolled": true
   },
   "outputs": [
    {
     "data": {
      "text/plain": [
       "34599"
      ]
     },
     "execution_count": 220,
     "metadata": {},
     "output_type": "execute_result"
    }
   ],
   "source": [
    "len(transtraindf.toarray())"
   ]
  },
  {
   "cell_type": "code",
   "execution_count": 312,
   "metadata": {},
   "outputs": [],
   "source": [
    "df_train_=pd.DataFrame(transtraindf.toarray(),columns=cv.get_feature_names())\n",
    "# df_train.drop(columns=list(df_train.columns)[:345], inplace=True)"
   ]
  },
  {
   "cell_type": "code",
   "execution_count": 313,
   "metadata": {},
   "outputs": [],
   "source": [
    "df_idf_train_=pd.DataFrame(idfdfdat.toarray(),columns=cv.get_feature_names())\n",
    "# df_idf_train.drop(columns=list(df_idf_train.columns)[:345],inplace=True)"
   ]
  },
  {
   "cell_type": "code",
   "execution_count": 166,
   "metadata": {
    "collapsed": true
   },
   "outputs": [
    {
     "data": {
      "text/html": [
       "<div>\n",
       "<style scoped>\n",
       "    .dataframe tbody tr th:only-of-type {\n",
       "        vertical-align: middle;\n",
       "    }\n",
       "\n",
       "    .dataframe tbody tr th {\n",
       "        vertical-align: top;\n",
       "    }\n",
       "\n",
       "    .dataframe thead th {\n",
       "        text-align: right;\n",
       "    }\n",
       "</style>\n",
       "<table border=\"1\" class=\"dataframe\">\n",
       "  <thead>\n",
       "    <tr style=\"text-align: right;\">\n",
       "      <th></th>\n",
       "      <th>ab</th>\n",
       "      <th>abactas</th>\n",
       "      <th>abacti</th>\n",
       "      <th>abalienaret</th>\n",
       "      <th>abalienari</th>\n",
       "      <th>abalienatio</th>\n",
       "      <th>abanteis</th>\n",
       "      <th>abas</th>\n",
       "      <th>abauum</th>\n",
       "      <th>abderita</th>\n",
       "      <th>...</th>\n",
       "      <th>ínclitum</th>\n",
       "      <th>ínfideles</th>\n",
       "      <th>ínfideli</th>\n",
       "      <th>ínpetu</th>\n",
       "      <th>ínterea</th>\n",
       "      <th>íre</th>\n",
       "      <th>óbsides</th>\n",
       "      <th>óccidente</th>\n",
       "      <th>úmbilicum</th>\n",
       "      <th>úna</th>\n",
       "    </tr>\n",
       "  </thead>\n",
       "  <tbody>\n",
       "    <tr>\n",
       "      <th>count</th>\n",
       "      <td>11534.000000</td>\n",
       "      <td>11534.000000</td>\n",
       "      <td>11534.000000</td>\n",
       "      <td>11534.000000</td>\n",
       "      <td>11534.000000</td>\n",
       "      <td>11534.000000</td>\n",
       "      <td>11534.000000</td>\n",
       "      <td>11534.000000</td>\n",
       "      <td>11534.000000</td>\n",
       "      <td>11534.000000</td>\n",
       "      <td>...</td>\n",
       "      <td>11534.000000</td>\n",
       "      <td>11534.000000</td>\n",
       "      <td>11534.000000</td>\n",
       "      <td>11534.000000</td>\n",
       "      <td>11534.000000</td>\n",
       "      <td>11534.000000</td>\n",
       "      <td>11534.000000</td>\n",
       "      <td>11534.000000</td>\n",
       "      <td>11534.000000</td>\n",
       "      <td>11534.000000</td>\n",
       "    </tr>\n",
       "    <tr>\n",
       "      <th>mean</th>\n",
       "      <td>0.000148</td>\n",
       "      <td>0.000035</td>\n",
       "      <td>0.000025</td>\n",
       "      <td>0.000012</td>\n",
       "      <td>0.000030</td>\n",
       "      <td>0.000023</td>\n",
       "      <td>0.000020</td>\n",
       "      <td>0.000070</td>\n",
       "      <td>0.000029</td>\n",
       "      <td>0.000033</td>\n",
       "      <td>...</td>\n",
       "      <td>0.000026</td>\n",
       "      <td>0.000034</td>\n",
       "      <td>0.000026</td>\n",
       "      <td>0.000012</td>\n",
       "      <td>0.000025</td>\n",
       "      <td>0.000027</td>\n",
       "      <td>0.000025</td>\n",
       "      <td>0.000025</td>\n",
       "      <td>0.000025</td>\n",
       "      <td>0.000026</td>\n",
       "    </tr>\n",
       "    <tr>\n",
       "      <th>std</th>\n",
       "      <td>0.006090</td>\n",
       "      <td>0.003724</td>\n",
       "      <td>0.002666</td>\n",
       "      <td>0.001336</td>\n",
       "      <td>0.003171</td>\n",
       "      <td>0.002468</td>\n",
       "      <td>0.002154</td>\n",
       "      <td>0.004383</td>\n",
       "      <td>0.003066</td>\n",
       "      <td>0.003560</td>\n",
       "      <td>...</td>\n",
       "      <td>0.002837</td>\n",
       "      <td>0.003604</td>\n",
       "      <td>0.002841</td>\n",
       "      <td>0.001276</td>\n",
       "      <td>0.002726</td>\n",
       "      <td>0.002943</td>\n",
       "      <td>0.002655</td>\n",
       "      <td>0.002726</td>\n",
       "      <td>0.002655</td>\n",
       "      <td>0.002837</td>\n",
       "    </tr>\n",
       "    <tr>\n",
       "      <th>min</th>\n",
       "      <td>0.000000</td>\n",
       "      <td>0.000000</td>\n",
       "      <td>0.000000</td>\n",
       "      <td>0.000000</td>\n",
       "      <td>0.000000</td>\n",
       "      <td>0.000000</td>\n",
       "      <td>0.000000</td>\n",
       "      <td>0.000000</td>\n",
       "      <td>0.000000</td>\n",
       "      <td>0.000000</td>\n",
       "      <td>...</td>\n",
       "      <td>0.000000</td>\n",
       "      <td>0.000000</td>\n",
       "      <td>0.000000</td>\n",
       "      <td>0.000000</td>\n",
       "      <td>0.000000</td>\n",
       "      <td>0.000000</td>\n",
       "      <td>0.000000</td>\n",
       "      <td>0.000000</td>\n",
       "      <td>0.000000</td>\n",
       "      <td>0.000000</td>\n",
       "    </tr>\n",
       "    <tr>\n",
       "      <th>25%</th>\n",
       "      <td>0.000000</td>\n",
       "      <td>0.000000</td>\n",
       "      <td>0.000000</td>\n",
       "      <td>0.000000</td>\n",
       "      <td>0.000000</td>\n",
       "      <td>0.000000</td>\n",
       "      <td>0.000000</td>\n",
       "      <td>0.000000</td>\n",
       "      <td>0.000000</td>\n",
       "      <td>0.000000</td>\n",
       "      <td>...</td>\n",
       "      <td>0.000000</td>\n",
       "      <td>0.000000</td>\n",
       "      <td>0.000000</td>\n",
       "      <td>0.000000</td>\n",
       "      <td>0.000000</td>\n",
       "      <td>0.000000</td>\n",
       "      <td>0.000000</td>\n",
       "      <td>0.000000</td>\n",
       "      <td>0.000000</td>\n",
       "      <td>0.000000</td>\n",
       "    </tr>\n",
       "    <tr>\n",
       "      <th>50%</th>\n",
       "      <td>0.000000</td>\n",
       "      <td>0.000000</td>\n",
       "      <td>0.000000</td>\n",
       "      <td>0.000000</td>\n",
       "      <td>0.000000</td>\n",
       "      <td>0.000000</td>\n",
       "      <td>0.000000</td>\n",
       "      <td>0.000000</td>\n",
       "      <td>0.000000</td>\n",
       "      <td>0.000000</td>\n",
       "      <td>...</td>\n",
       "      <td>0.000000</td>\n",
       "      <td>0.000000</td>\n",
       "      <td>0.000000</td>\n",
       "      <td>0.000000</td>\n",
       "      <td>0.000000</td>\n",
       "      <td>0.000000</td>\n",
       "      <td>0.000000</td>\n",
       "      <td>0.000000</td>\n",
       "      <td>0.000000</td>\n",
       "      <td>0.000000</td>\n",
       "    </tr>\n",
       "    <tr>\n",
       "      <th>75%</th>\n",
       "      <td>0.000000</td>\n",
       "      <td>0.000000</td>\n",
       "      <td>0.000000</td>\n",
       "      <td>0.000000</td>\n",
       "      <td>0.000000</td>\n",
       "      <td>0.000000</td>\n",
       "      <td>0.000000</td>\n",
       "      <td>0.000000</td>\n",
       "      <td>0.000000</td>\n",
       "      <td>0.000000</td>\n",
       "      <td>...</td>\n",
       "      <td>0.000000</td>\n",
       "      <td>0.000000</td>\n",
       "      <td>0.000000</td>\n",
       "      <td>0.000000</td>\n",
       "      <td>0.000000</td>\n",
       "      <td>0.000000</td>\n",
       "      <td>0.000000</td>\n",
       "      <td>0.000000</td>\n",
       "      <td>0.000000</td>\n",
       "      <td>0.000000</td>\n",
       "    </tr>\n",
       "    <tr>\n",
       "      <th>max</th>\n",
       "      <td>0.288019</td>\n",
       "      <td>0.399989</td>\n",
       "      <td>0.286342</td>\n",
       "      <td>0.143443</td>\n",
       "      <td>0.340556</td>\n",
       "      <td>0.265043</td>\n",
       "      <td>0.231319</td>\n",
       "      <td>0.324347</td>\n",
       "      <td>0.329301</td>\n",
       "      <td>0.382375</td>\n",
       "      <td>...</td>\n",
       "      <td>0.304650</td>\n",
       "      <td>0.387053</td>\n",
       "      <td>0.305102</td>\n",
       "      <td>0.137059</td>\n",
       "      <td>0.292765</td>\n",
       "      <td>0.316027</td>\n",
       "      <td>0.285148</td>\n",
       "      <td>0.292765</td>\n",
       "      <td>0.285148</td>\n",
       "      <td>0.304650</td>\n",
       "    </tr>\n",
       "  </tbody>\n",
       "</table>\n",
       "<p>8 rows × 38547 columns</p>\n",
       "</div>"
      ],
      "text/plain": [
       "                 ab       abactas        abacti   abalienaret    abalienari  \\\n",
       "count  11534.000000  11534.000000  11534.000000  11534.000000  11534.000000   \n",
       "mean       0.000148      0.000035      0.000025      0.000012      0.000030   \n",
       "std        0.006090      0.003724      0.002666      0.001336      0.003171   \n",
       "min        0.000000      0.000000      0.000000      0.000000      0.000000   \n",
       "25%        0.000000      0.000000      0.000000      0.000000      0.000000   \n",
       "50%        0.000000      0.000000      0.000000      0.000000      0.000000   \n",
       "75%        0.000000      0.000000      0.000000      0.000000      0.000000   \n",
       "max        0.288019      0.399989      0.286342      0.143443      0.340556   \n",
       "\n",
       "        abalienatio      abanteis          abas        abauum      abderita  \\\n",
       "count  11534.000000  11534.000000  11534.000000  11534.000000  11534.000000   \n",
       "mean       0.000023      0.000020      0.000070      0.000029      0.000033   \n",
       "std        0.002468      0.002154      0.004383      0.003066      0.003560   \n",
       "min        0.000000      0.000000      0.000000      0.000000      0.000000   \n",
       "25%        0.000000      0.000000      0.000000      0.000000      0.000000   \n",
       "50%        0.000000      0.000000      0.000000      0.000000      0.000000   \n",
       "75%        0.000000      0.000000      0.000000      0.000000      0.000000   \n",
       "max        0.265043      0.231319      0.324347      0.329301      0.382375   \n",
       "\n",
       "       ...      ínclitum     ínfideles      ínfideli        ínpetu  \\\n",
       "count  ...  11534.000000  11534.000000  11534.000000  11534.000000   \n",
       "mean   ...      0.000026      0.000034      0.000026      0.000012   \n",
       "std    ...      0.002837      0.003604      0.002841      0.001276   \n",
       "min    ...      0.000000      0.000000      0.000000      0.000000   \n",
       "25%    ...      0.000000      0.000000      0.000000      0.000000   \n",
       "50%    ...      0.000000      0.000000      0.000000      0.000000   \n",
       "75%    ...      0.000000      0.000000      0.000000      0.000000   \n",
       "max    ...      0.304650      0.387053      0.305102      0.137059   \n",
       "\n",
       "            ínterea           íre       óbsides     óccidente     úmbilicum  \\\n",
       "count  11534.000000  11534.000000  11534.000000  11534.000000  11534.000000   \n",
       "mean       0.000025      0.000027      0.000025      0.000025      0.000025   \n",
       "std        0.002726      0.002943      0.002655      0.002726      0.002655   \n",
       "min        0.000000      0.000000      0.000000      0.000000      0.000000   \n",
       "25%        0.000000      0.000000      0.000000      0.000000      0.000000   \n",
       "50%        0.000000      0.000000      0.000000      0.000000      0.000000   \n",
       "75%        0.000000      0.000000      0.000000      0.000000      0.000000   \n",
       "max        0.292765      0.316027      0.285148      0.292765      0.285148   \n",
       "\n",
       "                úna  \n",
       "count  11534.000000  \n",
       "mean       0.000026  \n",
       "std        0.002837  \n",
       "min        0.000000  \n",
       "25%        0.000000  \n",
       "50%        0.000000  \n",
       "75%        0.000000  \n",
       "max        0.304650  \n",
       "\n",
       "[8 rows x 38547 columns]"
      ]
     },
     "execution_count": 166,
     "metadata": {},
     "output_type": "execute_result"
    }
   ],
   "source": [
    "df_idf_train.describe()"
   ]
  },
  {
   "cell_type": "code",
   "execution_count": 281,
   "metadata": {},
   "outputs": [],
   "source": [
    "from sklearn.naive_bayes import MultinomialNB\n",
    "from sklearn.naive_bayes import ComplementNB"
   ]
  },
  {
   "cell_type": "code",
   "execution_count": 282,
   "metadata": {},
   "outputs": [],
   "source": [
    "mnd=MultinomialNB(alpha=1)\n",
    "cnb=ComplementNB(alpha=1)"
   ]
  },
  {
   "cell_type": "code",
   "execution_count": 314,
   "metadata": {},
   "outputs": [
    {
     "ename": "ValueError",
     "evalue": "Found input variables with inconsistent numbers of samples: [34599, 12672]",
     "output_type": "error",
     "traceback": [
      "\u001b[0;31m---------------------------------------------------------------------------\u001b[0m",
      "\u001b[0;31mValueError\u001b[0m                                Traceback (most recent call last)",
      "\u001b[0;32m<ipython-input-314-40172f0ef3b1>\u001b[0m in \u001b[0;36m<module>\u001b[0;34m\u001b[0m\n\u001b[0;32m----> 1\u001b[0;31m \u001b[0mmnd\u001b[0m\u001b[0;34m.\u001b[0m\u001b[0mfit\u001b[0m\u001b[0;34m(\u001b[0m\u001b[0mdf_train\u001b[0m\u001b[0;34m,\u001b[0m\u001b[0mytrain\u001b[0m\u001b[0;34m)\u001b[0m\u001b[0;34m\u001b[0m\u001b[0;34m\u001b[0m\u001b[0m\n\u001b[0m\u001b[1;32m      2\u001b[0m \u001b[0mcnb\u001b[0m\u001b[0;34m.\u001b[0m\u001b[0mfit\u001b[0m\u001b[0;34m(\u001b[0m\u001b[0mdf_train\u001b[0m\u001b[0;34m,\u001b[0m\u001b[0mytrain\u001b[0m\u001b[0;34m)\u001b[0m\u001b[0;34m\u001b[0m\u001b[0;34m\u001b[0m\u001b[0m\n",
      "\u001b[0;32m~/anaconda3/lib/python3.7/site-packages/sklearn/naive_bayes.py\u001b[0m in \u001b[0;36mfit\u001b[0;34m(self, X, y, sample_weight)\u001b[0m\n\u001b[1;32m    583\u001b[0m         \u001b[0mself\u001b[0m \u001b[0;34m:\u001b[0m \u001b[0mobject\u001b[0m\u001b[0;34m\u001b[0m\u001b[0;34m\u001b[0m\u001b[0m\n\u001b[1;32m    584\u001b[0m         \"\"\"\n\u001b[0;32m--> 585\u001b[0;31m         \u001b[0mX\u001b[0m\u001b[0;34m,\u001b[0m \u001b[0my\u001b[0m \u001b[0;34m=\u001b[0m \u001b[0mcheck_X_y\u001b[0m\u001b[0;34m(\u001b[0m\u001b[0mX\u001b[0m\u001b[0;34m,\u001b[0m \u001b[0my\u001b[0m\u001b[0;34m,\u001b[0m \u001b[0;34m'csr'\u001b[0m\u001b[0;34m)\u001b[0m\u001b[0;34m\u001b[0m\u001b[0;34m\u001b[0m\u001b[0m\n\u001b[0m\u001b[1;32m    586\u001b[0m         \u001b[0m_\u001b[0m\u001b[0;34m,\u001b[0m \u001b[0mn_features\u001b[0m \u001b[0;34m=\u001b[0m \u001b[0mX\u001b[0m\u001b[0;34m.\u001b[0m\u001b[0mshape\u001b[0m\u001b[0;34m\u001b[0m\u001b[0;34m\u001b[0m\u001b[0m\n\u001b[1;32m    587\u001b[0m \u001b[0;34m\u001b[0m\u001b[0m\n",
      "\u001b[0;32m~/anaconda3/lib/python3.7/site-packages/sklearn/utils/validation.py\u001b[0m in \u001b[0;36mcheck_X_y\u001b[0;34m(X, y, accept_sparse, accept_large_sparse, dtype, order, copy, force_all_finite, ensure_2d, allow_nd, multi_output, ensure_min_samples, ensure_min_features, y_numeric, warn_on_dtype, estimator)\u001b[0m\n\u001b[1;32m    764\u001b[0m         \u001b[0my\u001b[0m \u001b[0;34m=\u001b[0m \u001b[0my\u001b[0m\u001b[0;34m.\u001b[0m\u001b[0mastype\u001b[0m\u001b[0;34m(\u001b[0m\u001b[0mnp\u001b[0m\u001b[0;34m.\u001b[0m\u001b[0mfloat64\u001b[0m\u001b[0;34m)\u001b[0m\u001b[0;34m\u001b[0m\u001b[0;34m\u001b[0m\u001b[0m\n\u001b[1;32m    765\u001b[0m \u001b[0;34m\u001b[0m\u001b[0m\n\u001b[0;32m--> 766\u001b[0;31m     \u001b[0mcheck_consistent_length\u001b[0m\u001b[0;34m(\u001b[0m\u001b[0mX\u001b[0m\u001b[0;34m,\u001b[0m \u001b[0my\u001b[0m\u001b[0;34m)\u001b[0m\u001b[0;34m\u001b[0m\u001b[0;34m\u001b[0m\u001b[0m\n\u001b[0m\u001b[1;32m    767\u001b[0m \u001b[0;34m\u001b[0m\u001b[0m\n\u001b[1;32m    768\u001b[0m     \u001b[0;32mreturn\u001b[0m \u001b[0mX\u001b[0m\u001b[0;34m,\u001b[0m \u001b[0my\u001b[0m\u001b[0;34m\u001b[0m\u001b[0;34m\u001b[0m\u001b[0m\n",
      "\u001b[0;32m~/anaconda3/lib/python3.7/site-packages/sklearn/utils/validation.py\u001b[0m in \u001b[0;36mcheck_consistent_length\u001b[0;34m(*arrays)\u001b[0m\n\u001b[1;32m    233\u001b[0m     \u001b[0;32mif\u001b[0m \u001b[0mlen\u001b[0m\u001b[0;34m(\u001b[0m\u001b[0muniques\u001b[0m\u001b[0;34m)\u001b[0m \u001b[0;34m>\u001b[0m \u001b[0;36m1\u001b[0m\u001b[0;34m:\u001b[0m\u001b[0;34m\u001b[0m\u001b[0;34m\u001b[0m\u001b[0m\n\u001b[1;32m    234\u001b[0m         raise ValueError(\"Found input variables with inconsistent numbers of\"\n\u001b[0;32m--> 235\u001b[0;31m                          \" samples: %r\" % [int(l) for l in lengths])\n\u001b[0m\u001b[1;32m    236\u001b[0m \u001b[0;34m\u001b[0m\u001b[0m\n\u001b[1;32m    237\u001b[0m \u001b[0;34m\u001b[0m\u001b[0m\n",
      "\u001b[0;31mValueError\u001b[0m: Found input variables with inconsistent numbers of samples: [34599, 12672]"
     ]
    }
   ],
   "source": [
    "mnd.fit(df_train,ytrain)\n",
    "cnb.fit(df_train,ytrain)"
   ]
  },
  {
   "cell_type": "code",
   "execution_count": null,
   "metadata": {},
   "outputs": [],
   "source": [
    "y_pred_m=mnd.predict(non_idf_test_df)\n",
    "y_pred_c=cnb.predict(non_idf_test_df)"
   ]
  },
  {
   "cell_type": "code",
   "execution_count": 297,
   "metadata": {},
   "outputs": [],
   "source": [
    "import pandas as pd\n",
    "import matplotlib.pyplot as plt\n",
    "import seaborn as sns\n",
    "from sklearn.metrics import confusion_matrix\n",
    "def print_confusion_matrix(test_y, pred_y, class_names, figsize = (10,7), fontsize=14):\n",
    "    \"\"\"Prints a confusion matrix, as returned by sklearn.metrics.confusion_matrix, as a heatmap.\n",
    "    \n",
    "    Arguments\n",
    "    ---------\n",
    "    confusion_matrix: numpy.ndarray\n",
    "        The numpy.ndarray object returned from a call to sklearn.metrics.confusion_matrix. \n",
    "        Similarly constructed ndarrays can also be used.\n",
    "    class_names: list\n",
    "        An ordered list of class names, in the order they index the given confusion matrix.\n",
    "    figsize: tuple\n",
    "        A 2-long tuple, the first value determining the horizontal size of the ouputted figure,\n",
    "        the second determining the vertical size. Defaults to (10,7).\n",
    "    fontsize: int\n",
    "        Font size for axes labels. Defaults to 14.\n",
    "        \n",
    "    Returns\n",
    "    -------\n",
    "    matplotlib.figure.Figure\n",
    "        The resulting confusion matrix figure\n",
    "    \"\"\"\n",
    "    confusionmatrix=confusion_matrix(test_y,pred_y,labels=class_names)\n",
    "    df_cm = pd.DataFrame(\n",
    "        confusionmatrix, index=class_names, columns=class_names, \n",
    "    )\n",
    "    fig = plt.figure(figsize=figsize)\n",
    "    try:\n",
    "        heatmap = sns.heatmap(df_cm, annot=True, fmt=\"d\")\n",
    "    except ValueError:\n",
    "        raise ValueError(\"Confusion matrix values must be integers.\")\n",
    "    heatmap.yaxis.set_ticklabels(heatmap.yaxis.get_ticklabels(), rotation=0, ha='right', fontsize=fontsize)\n",
    "    heatmap.xaxis.set_ticklabels(heatmap.xaxis.get_ticklabels(), rotation=45, ha='right', fontsize=fontsize)\n",
    "    plt.ylabel('True label')\n",
    "    plt.xlabel('Predicted label')\n",
    "    return fig"
   ]
  },
  {
   "cell_type": "code",
   "execution_count": 272,
   "metadata": {
    "scrolled": true
   },
   "outputs": [
    {
     "data": {
      "text/plain": [
       "['juvenal', 'horace', 'caesar', 'cicero', 'ovid', 'virgil', 'catullus']"
      ]
     },
     "execution_count": 272,
     "metadata": {},
     "output_type": "execute_result"
    }
   ],
   "source": [
    "list(set(y_test))"
   ]
  },
  {
   "cell_type": "code",
   "execution_count": 315,
   "metadata": {},
   "outputs": [
    {
     "data": {
      "image/png": "[encoded data removed]",
      "text/plain": [
       "<Figure size 720x504 with 2 Axes>"
      ]
     },
     "metadata": {
      "needs_background": "light"
     },
     "output_type": "display_data"
    }
   ],
   "source": [
    "confusemtx=print_confusion_matrix(y_test,y_pred_c,list(set(y_test)))\n",
    "with open('badconfusemtx.pickle','wb') as f:\n",
    "    pickle.dump(confusemtx, f, pickle.HIGHEST_PROTOCOL)"
   ]
  },
  {
   "cell_type": "code",
   "execution_count": 303,
   "metadata": {},
   "outputs": [
    {
     "name": "stdout",
     "output_type": "stream",
     "text": [
      "catullus:  765\n",
      "virgil:  5339\n",
      "ovid:  4373\n",
      "cicero:  29237\n",
      "caesar:  2156\n",
      "horace:  3122\n",
      "juvenal:  1141\n",
      "\n",
      " just in test set: \n",
      " cicero      7310\n",
      "virgil      1335\n",
      "ovid        1093\n",
      "horace       781\n",
      "caesar       539\n",
      "juvenal      285\n",
      "catullus     191\n",
      "dtype: int64\n"
     ]
    }
   ],
   "source": [
    "print('catullus: ',len(catullus_labels))\n",
    "print('virgil: ',len(virgil_labels))\n",
    "print('ovid: ',len(ovid_labels))\n",
    "print('cicero: ',len(cicero_labels))\n",
    "print('caesar: ',len(caesar_labels))\n",
    "print('horace: ',len(horace_labels))\n",
    "print('juvenal: ',len(juvenal_labels))\n",
    "print('\\n just in test set: \\n',pd.Series(y_test).value_counts())"
   ]
  },
  {
   "cell_type": "code",
   "execution_count": null,
   "metadata": {},
   "outputs": [],
   "source": []
  }
 ],
 "metadata": {
  "kernelspec": {
   "display_name": "Python 3",
   "language": "python",
   "name": "python3"
  },
  "language_info": {
   "codemirror_mode": {
    "name": "ipython",
    "version": 3
   },
   "file_extension": ".py",
   "mimetype": "text/x-python",
   "name": "python",
   "nbconvert_exporter": "python",
   "pygments_lexer": "ipython3",
   "version": "3.7.3"
  }
 },
 "nbformat": 4,
 "nbformat_minor": 2
}
